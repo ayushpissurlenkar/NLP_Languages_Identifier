{
 "cells": [
  {
   "cell_type": "markdown",
   "id": "cee34843",
   "metadata": {},
   "source": [
    "# Model Creation [Multinomial Naive Bayes, SVM, RNN]"
   ]
  },
  {
   "cell_type": "code",
   "execution_count": 1,
   "id": "2f809fcb",
   "metadata": {},
   "outputs": [
    {
     "name": "stderr",
     "output_type": "stream",
     "text": [
      "c:\\Users\\yousu\\AppData\\Local\\Programs\\Python\\Python39\\lib\\site-packages\\numpy\\_distributor_init.py:30: UserWarning: loaded more than 1 DLL from .libs:\n",
      "c:\\Users\\yousu\\AppData\\Local\\Programs\\Python\\Python39\\lib\\site-packages\\numpy\\.libs\\libopenblas.EL2C6PLE4ZYW3ECEVIV3OXXGRN2NRFM2.gfortran-win_amd64.dll\n",
      "c:\\Users\\yousu\\AppData\\Local\\Programs\\Python\\Python39\\lib\\site-packages\\numpy\\.libs\\libopenblas.XWYDX2IKJW2NMTWSFYNGFUWKQU3LYTCZ.gfortran-win_amd64.dll\n",
      "  warnings.warn(\"loaded more than 1 DLL from .libs:\"\n"
     ]
    }
   ],
   "source": [
    "import numpy as np\n",
    "import os\n",
    "import pandas as pd\n",
    "import tensorflow as tf\n",
    "import matplotlib.pyplot as plt\n",
    "import sklearn\n",
    "import pickle\n",
    "\n",
    "from sklearn.model_selection import train_test_split\n",
    "from sklearn import svm\n",
    "from sklearn.pipeline import Pipeline\n",
    "from sklearn.naive_bayes import MultinomialNB\n",
    "from sklearn.feature_extraction.text import CountVectorizer,TfidfVectorizer\n",
    "from sklearn.preprocessing import LabelEncoder\n",
    "from sklearn.metrics import confusion_matrix,classification_report,accuracy_score\n",
    "import seaborn as sns"
   ]
  },
  {
   "cell_type": "markdown",
   "id": "ecf50f53",
   "metadata": {},
   "source": [
    "## Example of the Dataset, there are 21 languages with millions of words within each language.\n",
    "### Below is an example of a txt file from the scandinavian language set"
   ]
  },
  {
   "cell_type": "code",
   "execution_count": 15,
   "id": "ccd4b1cd",
   "metadata": {},
   "outputs": [
    {
     "name": "stdout",
     "output_type": "stream",
     "text": [
      "Languages avaliable: 21\n",
      "['sl', 'sk', 'pl', 'sv', '.DS_Store', 'da', 'el', 'lv', 'it', 'cs', 'ro', 'pt', 'hu', 'nl', 'bg', 'de', 'fi', 'fr', 'es', 'et', 'en', 'lt']\n"
     ]
    }
   ],
   "source": [
    "directory = '/Users/ayush/Desktop/NLP_Proj/txt'\n",
    "print(\"Languages avaliable: \" + str(len(os.listdir(directory)) - 1))\n",
    "print(os.listdir(directory))"
   ]
  },
  {
   "cell_type": "code",
   "execution_count": 16,
   "id": "c693a3ec",
   "metadata": {
    "scrolled": false
   },
   "outputs": [
    {
     "name": "stdout",
     "output_type": "stream",
     "text": [
      "['<CHAPTER ID=\"005-14\">\\n', '14. Prístup verejnosti k dokumentom Európskeho parlamentu, Rady a Komisie (prepracované znenie) (\\n', '<P>\\n', '- Pred konečným hlasovaním:\\n', '<SPEAKER ID=\"124\" NAME=\"Michael Cashman\">\\n', 'spravodajca. - Vážená pani predsedajúca, v súlade s článkom 53 by som chcel požiadať Komisiu o reakciu a aby nám povedala, či zamýšľa prijať všetky pozmeňujúce a doplňujúce návrhy tak, ako boli dnes prijaté.\\n', '<SPEAKER ID=\"125\" NAME=\"Günter Verheugen\">\\n', 'podpredseda Komisie. - Vážená pani predsedajúca, je mi cťou predniesť nasledujúce vyhlásenie v mene Komisie.\\n', '<P>\\n', 'Komisia vezme do úvahy pozmeňujúce a doplňujúce návrhy odhlasované Parlamentom, ktoré podrobne posúdi. Komisia potvrdzuje ochotu hľadať kompromis s Parlamentom a Radou. Komisia zváži svoj návrh až po tom, ako obidva útvary rozpočtového orgánu prijmú svoje pozície. Komisia medzitým zamýšľa pokračovať vo vedení konštruktívneho dialógu s obidvoma inštitúciami.\\n', '<SPEAKER ID=\"126\" NAME=\"Michael Cashman\">\\n', 'spravodajca. - Vážená pani predsedajúca, neviem, kde bol pán komisár, ale my sme dnes ráno prijali pozíciu.\\n', '<P>\\n', 'Preto by som rád požiadal, aby plenárne zasadnutie pridelilo správu späť výboru, čo by mu umožnilo začať rokovania s Radou a Komisiou.\\n', '<P>\\n', 'Preto žiadam podporu Parlamentu pre pridelenie správy späť do výboru.\\n', '<SPEAKER ID=\"128\" NAME=\"Michael Cashman\">\\n', 'spravodajca. - Vážená pani predsedajúca, ďakujem Parlamentu za trpezlivosť v tejto veci, bude to moje posledné vystúpenie. Mohol by som vás, vážená pani predsedajúca, požiadať o urýchlené zaslanie oficiálnej výzvy pre české predsedníctvo, ako aj nastupujúce švédske predsedníctvo, na otvorenie oficiálneho dialógu s Európskym parlamentom?\\n', '<P>\\n', 'Tak ako bolo ohlásené v zozname hlasujúcich a v záujme jednoznačnosti a celistvosti textu, ktorý sme teraz prijali, by som vás rád poprosil, aby ste požiadali plenárne zasadnutie, aby bez akejkoľvek podstatnej zmeny roztriedilo články podľa ich obsahu v súlade s konkrétnymi tematickými názvami, podľa toho nanovo zoradilo odôvodnenia a definície a vytvorilo a vydalo pozíciu Parlamentu v podobe uceleného textu čo najskôr.\\n', '<P>\\n', 'Na záver by som rád poďakoval za nesmierne podpornú prácu, ktorú mi poskytli nielen sekretariáty, ale aj služby na predkladanie dokumentov.\\n', '<P>\\n', '(potlesk)\\n', '<SPEAKER ID=\"129\" NAME=\"Predsedajúca\">\\n', 'Odovzdám túto žiadosť, pán poslanec Cashman, a výsledky budú oznámené.\\n']\n"
     ]
    }
   ],
   "source": [
    "# Path to the txt file\n",
    "file = '/Users/ayush/Desktop/NLP_Proj/txt/sk/ep-09-03-11-005-14.txt'\n",
    "\n",
    "# Opening and reading the data\n",
    "with open(file) as f:\n",
    "    lines = f.readlines()\n",
    "print(lines)"
   ]
  },
  {
   "cell_type": "markdown",
   "id": "94b3810c",
   "metadata": {},
   "source": [
    "### As we can see the data has a lot of issues, with punctuation not required and a lot of \"<\" and \">\"\n",
    "\n",
    "#### Thus we process the data below, for all files in every directory. Here we are only creating a test set of 200 files from each language. We have added the complete dataset created in the file as well."
   ]
  },
  {
   "cell_type": "code",
   "execution_count": 17,
   "id": "ac569279",
   "metadata": {},
   "outputs": [],
   "source": [
    "# Tokenize text, remove lines with XML-Tags \"<\", and strip empty lines and their correspondances\n",
    "txtFolder = 'C:\\\\CS6120 NLP\\\\Homework\\\\Final Project\\\\Models\\\\txt'\n",
    "trainingData = {}\n",
    "dataset = []                   \n",
    "for folder in list(os.listdir(txtFolder)):\n",
    "    try:\n",
    "        for file in list(os.listdir(txtFolder + '\\\\' + folder))[:200]:\n",
    "            try:\n",
    "                data = np.loadtxt(txtFolder + '\\\\' + folder + '\\\\' + file, dtype=\"str\",comments=\"<\", delimiter=\"\\n\", unpack=False, encoding='utf8')\n",
    "                if data.size > 1:\n",
    "                    data = ' '.join(data.tolist())\n",
    "                trainingData = {'langauage': folder, 'text': data}\n",
    "                dataset.append(trainingData)\n",
    "            except:\n",
    "                print('File failed: ' + file)\n",
    "    except:\n",
    "        print('Folder failed:' + folder)"
   ]
  },
  {
   "cell_type": "code",
   "execution_count": 18,
   "id": "2e3588a3",
   "metadata": {},
   "outputs": [],
   "source": [
    "# Saving the file into a csv to make it easier to use it\n",
    "df.to_csv('testDataSet_train.csv')"
   ]
  },
  {
   "cell_type": "code",
   "execution_count": 19,
   "id": "c5aba441",
   "metadata": {},
   "outputs": [
    {
     "data": {
      "text/html": [
       "<div>\n",
       "<style scoped>\n",
       "    .dataframe tbody tr th:only-of-type {\n",
       "        vertical-align: middle;\n",
       "    }\n",
       "\n",
       "    .dataframe tbody tr th {\n",
       "        vertical-align: top;\n",
       "    }\n",
       "\n",
       "    .dataframe thead th {\n",
       "        text-align: right;\n",
       "    }\n",
       "</style>\n",
       "<table border=\"1\" class=\"dataframe\">\n",
       "  <thead>\n",
       "    <tr style=\"text-align: right;\">\n",
       "      <th></th>\n",
       "      <th>langauage</th>\n",
       "      <th>text</th>\n",
       "    </tr>\n",
       "  </thead>\n",
       "  <tbody>\n",
       "    <tr>\n",
       "      <th>0</th>\n",
       "      <td>bg</td>\n",
       "      <td>Състав на Парламента: вж. протоколи</td>\n",
       "    </tr>\n",
       "    <tr>\n",
       "      <th>1</th>\n",
       "      <td>bg</td>\n",
       "      <td>Одобряване на протокола от предишното заседани...</td>\n",
       "    </tr>\n",
       "    <tr>\n",
       "      <th>2</th>\n",
       "      <td>bg</td>\n",
       "      <td>Състав на Парламента: вж. протоколи</td>\n",
       "    </tr>\n",
       "    <tr>\n",
       "      <th>3</th>\n",
       "      <td>bg</td>\n",
       "      <td>Проверка на пълномощията: вж. протоколи</td>\n",
       "    </tr>\n",
       "    <tr>\n",
       "      <th>4</th>\n",
       "      <td>bg</td>\n",
       "      <td>Внасяне на документи: вж. протоколи</td>\n",
       "    </tr>\n",
       "    <tr>\n",
       "      <th>...</th>\n",
       "      <td>...</td>\n",
       "      <td>...</td>\n",
       "    </tr>\n",
       "    <tr>\n",
       "      <th>4195</th>\n",
       "      <td>sv</td>\n",
       "      <td>['Afghanistan - ett år efter Bonn-överenskomme...</td>\n",
       "    </tr>\n",
       "    <tr>\n",
       "      <th>4196</th>\n",
       "      <td>sv</td>\n",
       "      <td>['Verksamheten vid Europeiska banken för återu...</td>\n",
       "    </tr>\n",
       "    <tr>\n",
       "      <th>4197</th>\n",
       "      <td>sv</td>\n",
       "      <td>['Återupptagande av sessionen'\\n 'Jag förklara...</td>\n",
       "    </tr>\n",
       "    <tr>\n",
       "      <th>4198</th>\n",
       "      <td>sv</td>\n",
       "      <td>['Svälten i världen och undanröjande av hinder...</td>\n",
       "    </tr>\n",
       "    <tr>\n",
       "      <th>4199</th>\n",
       "      <td>sv</td>\n",
       "      <td>['Återupptagande av sessionen'\\n 'Jag förklara...</td>\n",
       "    </tr>\n",
       "  </tbody>\n",
       "</table>\n",
       "<p>4200 rows × 2 columns</p>\n",
       "</div>"
      ],
      "text/plain": [
       "     langauage                                               text\n",
       "0           bg                Състав на Парламента: вж. протоколи\n",
       "1           bg  Одобряване на протокола от предишното заседани...\n",
       "2           bg                Състав на Парламента: вж. протоколи\n",
       "3           bg            Проверка на пълномощията: вж. протоколи\n",
       "4           bg                Внасяне на документи: вж. протоколи\n",
       "...        ...                                                ...\n",
       "4195        sv  ['Afghanistan - ett år efter Bonn-överenskomme...\n",
       "4196        sv  ['Verksamheten vid Europeiska banken för återu...\n",
       "4197        sv  ['Återupptagande av sessionen'\\n 'Jag förklara...\n",
       "4198        sv  ['Svälten i världen och undanröjande av hinder...\n",
       "4199        sv  ['Återupptagande av sessionen'\\n 'Jag förklara...\n",
       "\n",
       "[4200 rows x 2 columns]"
      ]
     },
     "execution_count": 19,
     "metadata": {},
     "output_type": "execute_result"
    }
   ],
   "source": [
    "# Pulling the test data out of the csv\n",
    "test_df = pd.read_csv('testDataSet_train.csv', index_col=False)\n",
    "test_df = test_df.drop(['Unnamed: 0'], axis=1)\n",
    "test_df"
   ]
  },
  {
   "attachments": {},
   "cell_type": "markdown",
   "id": "d556f3f9",
   "metadata": {},
   "source": [
    "Ensure that the `testDataSet_full.csv` is in the same folder as this notebook so that pandas can load the data into a dataframe"
   ]
  },
  {
   "cell_type": "code",
   "execution_count": 3,
   "id": "4ece5430",
   "metadata": {},
   "outputs": [
    {
     "data": {
      "text/html": [
       "<div>\n",
       "<style scoped>\n",
       "    .dataframe tbody tr th:only-of-type {\n",
       "        vertical-align: middle;\n",
       "    }\n",
       "\n",
       "    .dataframe tbody tr th {\n",
       "        vertical-align: top;\n",
       "    }\n",
       "\n",
       "    .dataframe thead th {\n",
       "        text-align: right;\n",
       "    }\n",
       "</style>\n",
       "<table border=\"1\" class=\"dataframe\">\n",
       "  <thead>\n",
       "    <tr style=\"text-align: right;\">\n",
       "      <th></th>\n",
       "      <th>langauage</th>\n",
       "      <th>text</th>\n",
       "    </tr>\n",
       "  </thead>\n",
       "  <tbody>\n",
       "    <tr>\n",
       "      <th>0</th>\n",
       "      <td>bg</td>\n",
       "      <td>Състав на Парламента: вж. протоколи</td>\n",
       "    </tr>\n",
       "    <tr>\n",
       "      <th>1</th>\n",
       "      <td>bg</td>\n",
       "      <td>Одобряване на протокола от предишното заседани...</td>\n",
       "    </tr>\n",
       "    <tr>\n",
       "      <th>2</th>\n",
       "      <td>bg</td>\n",
       "      <td>Състав на Парламента: вж. протоколи</td>\n",
       "    </tr>\n",
       "    <tr>\n",
       "      <th>3</th>\n",
       "      <td>bg</td>\n",
       "      <td>Проверка на пълномощията: вж. протоколи</td>\n",
       "    </tr>\n",
       "    <tr>\n",
       "      <th>4</th>\n",
       "      <td>bg</td>\n",
       "      <td>Внасяне на документи: вж. протоколи</td>\n",
       "    </tr>\n",
       "    <tr>\n",
       "      <th>...</th>\n",
       "      <td>...</td>\n",
       "      <td>...</td>\n",
       "    </tr>\n",
       "    <tr>\n",
       "      <th>187066</th>\n",
       "      <td>sv</td>\n",
       "      <td>Återupptagande av sessionen Jag förklarar Euro...</td>\n",
       "    </tr>\n",
       "    <tr>\n",
       "      <th>187067</th>\n",
       "      <td>sv</td>\n",
       "      <td>Återupptagande av sammanträdet Av tekniska skä...</td>\n",
       "    </tr>\n",
       "    <tr>\n",
       "      <th>187068</th>\n",
       "      <td>sv</td>\n",
       "      <td>Meddelande från talmannen Jag kan meddela att ...</td>\n",
       "    </tr>\n",
       "    <tr>\n",
       "      <th>187069</th>\n",
       "      <td>sv</td>\n",
       "      <td>Justering av protokollet från föregående samma...</td>\n",
       "    </tr>\n",
       "    <tr>\n",
       "      <th>187070</th>\n",
       "      <td>sv</td>\n",
       "      <td>Justering av protokollet från föregående samma...</td>\n",
       "    </tr>\n",
       "  </tbody>\n",
       "</table>\n",
       "<p>187071 rows × 2 columns</p>\n",
       "</div>"
      ],
      "text/plain": [
       "       langauage                                               text\n",
       "0             bg                Състав на Парламента: вж. протоколи\n",
       "1             bg  Одобряване на протокола от предишното заседани...\n",
       "2             bg                Състав на Парламента: вж. протоколи\n",
       "3             bg            Проверка на пълномощията: вж. протоколи\n",
       "4             bg                Внасяне на документи: вж. протоколи\n",
       "...          ...                                                ...\n",
       "187066        sv  Återupptagande av sessionen Jag förklarar Euro...\n",
       "187067        sv  Återupptagande av sammanträdet Av tekniska skä...\n",
       "187068        sv  Meddelande från talmannen Jag kan meddela att ...\n",
       "187069        sv  Justering av protokollet från föregående samma...\n",
       "187070        sv  Justering av protokollet från föregående samma...\n",
       "\n",
       "[187071 rows x 2 columns]"
      ]
     },
     "execution_count": 3,
     "metadata": {},
     "output_type": "execute_result"
    }
   ],
   "source": [
    "# Complete dataset \n",
    "full_df = pd.read_csv('testDataSet_full.csv', index_col=False)\n",
    "full_df = full_df.drop(['Unnamed: 0'], axis=1)\n",
    "full_df"
   ]
  },
  {
   "cell_type": "code",
   "execution_count": 4,
   "id": "9b44ce6b",
   "metadata": {},
   "outputs": [
    {
     "data": {
      "image/png": "[encoded data removed]",
      "text/plain": [
       "<Figure size 640x480 with 1 Axes>"
      ]
     },
     "metadata": {},
     "output_type": "display_data"
    }
   ],
   "source": [
    "# Histogram Visualization of the count \n",
    "sns.histplot(full_df['langauage'])\n",
    "plt.title('Distribution of languages')\n",
    "plt.ylim(5000, 10000)\n",
    "plt.show()"
   ]
  },
  {
   "cell_type": "code",
   "execution_count": 22,
   "id": "da2c98b5",
   "metadata": {},
   "outputs": [
    {
     "data": {
      "text/html": [
       "<div>\n",
       "<style scoped>\n",
       "    .dataframe tbody tr th:only-of-type {\n",
       "        vertical-align: middle;\n",
       "    }\n",
       "\n",
       "    .dataframe tbody tr th {\n",
       "        vertical-align: top;\n",
       "    }\n",
       "\n",
       "    .dataframe thead th {\n",
       "        text-align: right;\n",
       "    }\n",
       "</style>\n",
       "<table border=\"1\" class=\"dataframe\">\n",
       "  <thead>\n",
       "    <tr style=\"text-align: right;\">\n",
       "      <th></th>\n",
       "      <th>text</th>\n",
       "    </tr>\n",
       "    <tr>\n",
       "      <th>langauage</th>\n",
       "      <th></th>\n",
       "    </tr>\n",
       "  </thead>\n",
       "  <tbody>\n",
       "    <tr>\n",
       "      <th>bg</th>\n",
       "      <td>6586</td>\n",
       "    </tr>\n",
       "    <tr>\n",
       "      <th>cs</th>\n",
       "      <td>8842</td>\n",
       "    </tr>\n",
       "    <tr>\n",
       "      <th>da</th>\n",
       "      <td>9373</td>\n",
       "    </tr>\n",
       "    <tr>\n",
       "      <th>de</th>\n",
       "      <td>9224</td>\n",
       "    </tr>\n",
       "    <tr>\n",
       "      <th>el</th>\n",
       "      <td>9271</td>\n",
       "    </tr>\n",
       "    <tr>\n",
       "      <th>en</th>\n",
       "      <td>9672</td>\n",
       "    </tr>\n",
       "    <tr>\n",
       "      <th>es</th>\n",
       "      <td>9433</td>\n",
       "    </tr>\n",
       "    <tr>\n",
       "      <th>et</th>\n",
       "      <td>8819</td>\n",
       "    </tr>\n",
       "    <tr>\n",
       "      <th>fi</th>\n",
       "      <td>9335</td>\n",
       "    </tr>\n",
       "    <tr>\n",
       "      <th>fr</th>\n",
       "      <td>9450</td>\n",
       "    </tr>\n",
       "    <tr>\n",
       "      <th>hu</th>\n",
       "      <td>8763</td>\n",
       "    </tr>\n",
       "    <tr>\n",
       "      <th>it</th>\n",
       "      <td>9486</td>\n",
       "    </tr>\n",
       "    <tr>\n",
       "      <th>lt</th>\n",
       "      <td>8819</td>\n",
       "    </tr>\n",
       "    <tr>\n",
       "      <th>lv</th>\n",
       "      <td>8787</td>\n",
       "    </tr>\n",
       "    <tr>\n",
       "      <th>nl</th>\n",
       "      <td>9433</td>\n",
       "    </tr>\n",
       "    <tr>\n",
       "      <th>pl</th>\n",
       "      <td>8820</td>\n",
       "    </tr>\n",
       "    <tr>\n",
       "      <th>pt</th>\n",
       "      <td>9434</td>\n",
       "    </tr>\n",
       "    <tr>\n",
       "      <th>ro</th>\n",
       "      <td>6576</td>\n",
       "    </tr>\n",
       "    <tr>\n",
       "      <th>sk</th>\n",
       "      <td>8804</td>\n",
       "    </tr>\n",
       "    <tr>\n",
       "      <th>sl</th>\n",
       "      <td>8742</td>\n",
       "    </tr>\n",
       "    <tr>\n",
       "      <th>sv</th>\n",
       "      <td>9402</td>\n",
       "    </tr>\n",
       "  </tbody>\n",
       "</table>\n",
       "</div>"
      ],
      "text/plain": [
       "           text\n",
       "langauage      \n",
       "bg         6586\n",
       "cs         8842\n",
       "da         9373\n",
       "de         9224\n",
       "el         9271\n",
       "en         9672\n",
       "es         9433\n",
       "et         8819\n",
       "fi         9335\n",
       "fr         9450\n",
       "hu         8763\n",
       "it         9486\n",
       "lt         8819\n",
       "lv         8787\n",
       "nl         9433\n",
       "pl         8820\n",
       "pt         9434\n",
       "ro         6576\n",
       "sk         8804\n",
       "sl         8742\n",
       "sv         9402"
      ]
     },
     "execution_count": 22,
     "metadata": {},
     "output_type": "execute_result"
    }
   ],
   "source": [
    "# Count of the number of text files per language\n",
    "full_df.groupby('langauage').count()\n"
   ]
  },
  {
   "cell_type": "markdown",
   "id": "cbebefa8",
   "metadata": {},
   "source": [
    "## Data Splitting\n",
    "#### We have decided to stick with the normal 80/20 split where 80% of the data is for training and 20% is for testing"
   ]
  },
  {
   "cell_type": "code",
   "execution_count": 23,
   "id": "5eb1cb85",
   "metadata": {},
   "outputs": [],
   "source": [
    "x_dataset = full_df['text']\n",
    "y_dataset = full_df['langauage']"
   ]
  },
  {
   "cell_type": "code",
   "execution_count": 24,
   "id": "8fc52406",
   "metadata": {},
   "outputs": [],
   "source": [
    "X_train, X_test, y_train, y_test = train_test_split(x_dataset, y_dataset, test_size=0.2, random_state=42)"
   ]
  },
  {
   "cell_type": "markdown",
   "id": "75ebbf60",
   "metadata": {},
   "source": [
    "## Multinomial Naive Bayes Model"
   ]
  },
  {
   "cell_type": "markdown",
   "id": "c5930110",
   "metadata": {},
   "source": [
    "### Using unigrams"
   ]
  },
  {
   "cell_type": "code",
   "execution_count": 12,
   "id": "3663d97f",
   "metadata": {},
   "outputs": [],
   "source": [
    "# Vectorizer\n",
    "count1 = CountVectorizer(analyzer='char', ngram_range=(1,1))\n",
    "\n",
    "# Pipeline to train the model\n",
    "pipeline1 = Pipeline([('vectorizer', count1), ('model', MultinomialNB())])"
   ]
  },
  {
   "cell_type": "code",
   "execution_count": 13,
   "id": "7c589c15",
   "metadata": {},
   "outputs": [
    {
     "data": {
      "text/html": [
       "<style>#sk-container-id-1 {color: black;background-color: white;}#sk-container-id-1 pre{padding: 0;}#sk-container-id-1 div.sk-toggleable {background-color: white;}#sk-container-id-1 label.sk-toggleable__label {cursor: pointer;display: block;width: 100%;margin-bottom: 0;padding: 0.3em;box-sizing: border-box;text-align: center;}#sk-container-id-1 label.sk-toggleable__label-arrow:before {content: \"▸\";float: left;margin-right: 0.25em;color: #696969;}#sk-container-id-1 label.sk-toggleable__label-arrow:hover:before {color: black;}#sk-container-id-1 div.sk-estimator:hover label.sk-toggleable__label-arrow:before {color: black;}#sk-container-id-1 div.sk-toggleable__content {max-height: 0;max-width: 0;overflow: hidden;text-align: left;background-color: #f0f8ff;}#sk-container-id-1 div.sk-toggleable__content pre {margin: 0.2em;color: black;border-radius: 0.25em;background-color: #f0f8ff;}#sk-container-id-1 input.sk-toggleable__control:checked~div.sk-toggleable__content {max-height: 200px;max-width: 100%;overflow: auto;}#sk-container-id-1 input.sk-toggleable__control:checked~label.sk-toggleable__label-arrow:before {content: \"▾\";}#sk-container-id-1 div.sk-estimator input.sk-toggleable__control:checked~label.sk-toggleable__label {background-color: #d4ebff;}#sk-container-id-1 div.sk-label input.sk-toggleable__control:checked~label.sk-toggleable__label {background-color: #d4ebff;}#sk-container-id-1 input.sk-hidden--visually {border: 0;clip: rect(1px 1px 1px 1px);clip: rect(1px, 1px, 1px, 1px);height: 1px;margin: -1px;overflow: hidden;padding: 0;position: absolute;width: 1px;}#sk-container-id-1 div.sk-estimator {font-family: monospace;background-color: #f0f8ff;border: 1px dotted black;border-radius: 0.25em;box-sizing: border-box;margin-bottom: 0.5em;}#sk-container-id-1 div.sk-estimator:hover {background-color: #d4ebff;}#sk-container-id-1 div.sk-parallel-item::after {content: \"\";width: 100%;border-bottom: 1px solid gray;flex-grow: 1;}#sk-container-id-1 div.sk-label:hover label.sk-toggleable__label {background-color: #d4ebff;}#sk-container-id-1 div.sk-serial::before {content: \"\";position: absolute;border-left: 1px solid gray;box-sizing: border-box;top: 0;bottom: 0;left: 50%;z-index: 0;}#sk-container-id-1 div.sk-serial {display: flex;flex-direction: column;align-items: center;background-color: white;padding-right: 0.2em;padding-left: 0.2em;position: relative;}#sk-container-id-1 div.sk-item {position: relative;z-index: 1;}#sk-container-id-1 div.sk-parallel {display: flex;align-items: stretch;justify-content: center;background-color: white;position: relative;}#sk-container-id-1 div.sk-item::before, #sk-container-id-1 div.sk-parallel-item::before {content: \"\";position: absolute;border-left: 1px solid gray;box-sizing: border-box;top: 0;bottom: 0;left: 50%;z-index: -1;}#sk-container-id-1 div.sk-parallel-item {display: flex;flex-direction: column;z-index: 1;position: relative;background-color: white;}#sk-container-id-1 div.sk-parallel-item:first-child::after {align-self: flex-end;width: 50%;}#sk-container-id-1 div.sk-parallel-item:last-child::after {align-self: flex-start;width: 50%;}#sk-container-id-1 div.sk-parallel-item:only-child::after {width: 0;}#sk-container-id-1 div.sk-dashed-wrapped {border: 1px dashed gray;margin: 0 0.4em 0.5em 0.4em;box-sizing: border-box;padding-bottom: 0.4em;background-color: white;}#sk-container-id-1 div.sk-label label {font-family: monospace;font-weight: bold;display: inline-block;line-height: 1.2em;}#sk-container-id-1 div.sk-label-container {text-align: center;}#sk-container-id-1 div.sk-container {/* jupyter's `normalize.less` sets `[hidden] { display: none; }` but bootstrap.min.css set `[hidden] { display: none !important; }` so we also need the `!important` here to be able to override the default hidden behavior on the sphinx rendered scikit-learn.org. See: https://github.com/scikit-learn/scikit-learn/issues/21755 */display: inline-block !important;position: relative;}#sk-container-id-1 div.sk-text-repr-fallback {display: none;}</style><div id=\"sk-container-id-1\" class=\"sk-top-container\"><div class=\"sk-text-repr-fallback\"><pre>Pipeline(steps=[(&#x27;vectorizer&#x27;, CountVectorizer(analyzer=&#x27;char&#x27;)),\n",
       "                (&#x27;model&#x27;, MultinomialNB())])</pre><b>In a Jupyter environment, please rerun this cell to show the HTML representation or trust the notebook. <br />On GitHub, the HTML representation is unable to render, please try loading this page with nbviewer.org.</b></div><div class=\"sk-container\" hidden><div class=\"sk-item sk-dashed-wrapped\"><div class=\"sk-label-container\"><div class=\"sk-label sk-toggleable\"><input class=\"sk-toggleable__control sk-hidden--visually\" id=\"sk-estimator-id-1\" type=\"checkbox\" ><label for=\"sk-estimator-id-1\" class=\"sk-toggleable__label sk-toggleable__label-arrow\">Pipeline</label><div class=\"sk-toggleable__content\"><pre>Pipeline(steps=[(&#x27;vectorizer&#x27;, CountVectorizer(analyzer=&#x27;char&#x27;)),\n",
       "                (&#x27;model&#x27;, MultinomialNB())])</pre></div></div></div><div class=\"sk-serial\"><div class=\"sk-item\"><div class=\"sk-estimator sk-toggleable\"><input class=\"sk-toggleable__control sk-hidden--visually\" id=\"sk-estimator-id-2\" type=\"checkbox\" ><label for=\"sk-estimator-id-2\" class=\"sk-toggleable__label sk-toggleable__label-arrow\">CountVectorizer</label><div class=\"sk-toggleable__content\"><pre>CountVectorizer(analyzer=&#x27;char&#x27;)</pre></div></div></div><div class=\"sk-item\"><div class=\"sk-estimator sk-toggleable\"><input class=\"sk-toggleable__control sk-hidden--visually\" id=\"sk-estimator-id-3\" type=\"checkbox\" ><label for=\"sk-estimator-id-3\" class=\"sk-toggleable__label sk-toggleable__label-arrow\">MultinomialNB</label><div class=\"sk-toggleable__content\"><pre>MultinomialNB()</pre></div></div></div></div></div></div></div>"
      ],
      "text/plain": [
       "Pipeline(steps=[('vectorizer', CountVectorizer(analyzer='char')),\n",
       "                ('model', MultinomialNB())])"
      ]
     },
     "execution_count": 13,
     "metadata": {},
     "output_type": "execute_result"
    }
   ],
   "source": [
    "# Fitting the pipeline with the data\n",
    "pipeline1.fit(X_train, y_train)"
   ]
  },
  {
   "cell_type": "markdown",
   "id": "f6272b1e",
   "metadata": {},
   "source": [
    "### Training the rest of the models in a loop and stores them"
   ]
  },
  {
   "cell_type": "code",
   "execution_count": null,
   "id": "84214db6",
   "metadata": {},
   "outputs": [],
   "source": [
    "def train_mnb(nums_model):\n",
    "    for i in range(nums_model):\n",
    "        n = i + 1\n",
    "       # Vectorizer\n",
    "        count = CountVectorizer(analyzer='char', ngram_range=(n,n))\n",
    "\n",
    "        # Pipeline to train the model\n",
    "        pipeline = Pipeline([('vectorizer', count), ('model', MultinomialNB())])\n",
    "        \n",
    "        # Fitting the pipeline with the data\n",
    "        pipeline.fit(X_train, y_train)\n",
    "        \n",
    "        print(str(n)+'-gram Trained')\n",
    "        \n",
    "        # save the model to disk\n",
    "        filename = 'mnb' + str(n) + '_model.sav'\n",
    "        pickle.dump(pipeline, open(filename, 'wb'))"
   ]
  },
  {
   "cell_type": "code",
   "execution_count": 14,
   "id": "d116f671",
   "metadata": {},
   "outputs": [],
   "source": [
    "def run_mnb(nums_model):\n",
    "    results_list = []\n",
    "    for i in range(nums_model):\n",
    "        n = i + 1\n",
    "        filename = 'mnb' + str(n) + '_model.sav'\n",
    "        loaded_model = pickle.load(open(filename, 'rb'))\n",
    "        result = loaded_model.score(X_test, y_test)\n",
    "        print(str(n) + '-gram Score:' + str(result))\n",
    "        results_list.append(result)\n",
    "    return results_list"
   ]
  },
  {
   "cell_type": "code",
   "execution_count": 15,
   "id": "61ccb178",
   "metadata": {
    "scrolled": false
   },
   "outputs": [
    {
     "name": "stdout",
     "output_type": "stream",
     "text": [
      "1-gram Score:0.9175731658425765\n",
      "2-gram Score:0.9729787518374984\n",
      "3-gram Score:0.9807296538821328\n",
      "4-gram Score:0.9833221969798209\n",
      "5-gram Score:0.9842041961780035\n",
      "6-gram Score:0.9844714686623012\n",
      "7-gram Score:0.9846051049044501\n"
     ]
    }
   ],
   "source": [
    "mnb_model_results = run_mnb(7)"
   ]
  },
  {
   "cell_type": "code",
   "execution_count": 16,
   "id": "368b4eb4",
   "metadata": {},
   "outputs": [
    {
     "name": "stdout",
     "output_type": "stream",
     "text": [
      "[0.9175731658425765, 0.9729787518374984, 0.9807296538821328, 0.9833221969798209, 0.9842041961780035, 0.9844714686623012, 0.9846051049044501]\n"
     ]
    }
   ],
   "source": [
    "print(mnb_model_results)"
   ]
  },
  {
   "cell_type": "markdown",
   "id": "6e6ebae4",
   "metadata": {},
   "source": [
    "## SVM Models"
   ]
  },
  {
   "cell_type": "markdown",
   "id": "a3cfcea4",
   "metadata": {},
   "source": [
    "### Splitting the data"
   ]
  },
  {
   "cell_type": "code",
   "execution_count": 17,
   "id": "907b7540",
   "metadata": {},
   "outputs": [],
   "source": [
    "train_data = full_df['text']\n",
    "labels = full_df['langauage']"
   ]
  },
  {
   "cell_type": "code",
   "execution_count": 18,
   "id": "78ee4a35",
   "metadata": {},
   "outputs": [],
   "source": [
    "X_strain, X_stest, y_strain, y_stest = train_test_split(train_data, labels, test_size=0.2, random_state=42)"
   ]
  },
  {
   "cell_type": "code",
   "execution_count": 19,
   "id": "20a46479",
   "metadata": {},
   "outputs": [],
   "source": [
    "encoder = LabelEncoder()\n",
    "y_strain = encoder.fit_transform(y_strain)\n",
    "y_stest = encoder.fit_transform(y_stest)"
   ]
  },
  {
   "cell_type": "markdown",
   "id": "cf433be1",
   "metadata": {},
   "source": [
    "### RBF Model"
   ]
  },
  {
   "cell_type": "markdown",
   "id": "3272fe85",
   "metadata": {},
   "source": [
    "### Example 2-gram RBF SVM Model"
   ]
  },
  {
   "cell_type": "code",
   "execution_count": 20,
   "id": "7332b8b3",
   "metadata": {},
   "outputs": [],
   "source": [
    "tfidf = TfidfVectorizer(ngram_range=(2,2), analyzer='char')\n",
    "pipeline = Pipeline([('vectorizer', tfidf), ('model', svm.SVC(kernel='poly', degree=3))])"
   ]
  },
  {
   "cell_type": "code",
   "execution_count": null,
   "id": "ffcb1b6a",
   "metadata": {},
   "outputs": [],
   "source": [
    "pipeline.fit(X_strain, y_strain)"
   ]
  },
  {
   "cell_type": "code",
   "execution_count": null,
   "id": "42b4119a",
   "metadata": {},
   "outputs": [],
   "source": [
    "y_pred = pipeline.predict(X_stest)"
   ]
  },
  {
   "cell_type": "code",
   "execution_count": null,
   "id": "8ad4b132",
   "metadata": {},
   "outputs": [],
   "source": [
    "print(accuracy_score(y_stest, y_pred))"
   ]
  },
  {
   "cell_type": "code",
   "execution_count": 12,
   "id": "30869b8d",
   "metadata": {},
   "outputs": [],
   "source": [
    "def run_smv_rbf(ngram_array):\n",
    "    acc_list = []\n",
    "    for i in ngram_array:\n",
    "        tfidf = TfidfVectorizer(ngram_range=(i,i), analyzer='char')\n",
    "        pipeline_svm_rbf = Pipeline([('vectorizer', tfidf), ('model', svm.SVC(kernel='rbf'))])\n",
    "        pipeline_svm_rbf.fit(X_train, y_train)\n",
    "        print(str(i)+'-gram RBF Trained')\n",
    "        result = pipeline_svm_rbf.predict(X_test)\n",
    "        acc = accuracy_score(y_test, result)\n",
    "        print(str(i) + '-RBF Accuracy:' + str(acc))\n",
    "        acc_list.append(acc)\n",
    "        # save the model to disk\n",
    "        filename = 'svm' + str(i) + '_rbf_model.sav'\n",
    "        pickle.dump(pipeline_svm_rbf, open(filename, 'wb'))\n",
    "    return acc_list"
   ]
  },
  {
   "cell_type": "code",
   "execution_count": null,
   "id": "6ee582a1",
   "metadata": {
    "collapsed": true
   },
   "outputs": [],
   "source": [
    "ngrams = [1, 2, 3]\n",
    "rbf_acc = run_smv_rbf(ngrams)"
   ]
  },
  {
   "attachments": {},
   "cell_type": "markdown",
   "id": "58acca7a",
   "metadata": {},
   "source": [
    "1-gram RBF Trained\n",
    "\n",
    "1-RBF Accuracy:0.9744487505011359\n",
    "\n",
    "2-gram RBF Trained\n",
    "\n",
    "2-RBF Accuracy:0.9895229186155285\n",
    "\n",
    "3-gram RBF Trained\n",
    "\n",
    "3-RBF Accuracy:0.9908592810370173"
   ]
  },
  {
   "cell_type": "code",
   "execution_count": 25,
   "id": "5fd1524d",
   "metadata": {},
   "outputs": [],
   "source": [
    "def run_smv_poly(ngram_array):\n",
    "    acc_list = []\n",
    "    for i in ngram_array:\n",
    "        tfidf = TfidfVectorizer(ngram_range=(i,i), analyzer='char')\n",
    "        pipeline_svm_poly = Pipeline([('vectorizer', tfidf), ('model', svm.SVC(kernel='poly', degree=3))])\n",
    "        pipeline_svm_poly.fit(X_train, y_train)\n",
    "        print(str(i)+'-gram POLY Trained')\n",
    "        result = pipeline_svm_poly.predict(X_test)\n",
    "        acc = accuracy_score(y_test, result)\n",
    "        print(str(i) + '-POLY Accuracy:' + str(acc))\n",
    "        acc_list.append(acc)\n",
    "        # save the model to disk\n",
    "        filename = 'svm' + str(i) + '_poly_model.sav'\n",
    "        pickle.dump(pipeline_svm_poly, open(filename, 'wb'))\n",
    "    return acc_list"
   ]
  },
  {
   "cell_type": "code",
   "execution_count": 26,
   "id": "c34fd1fd",
   "metadata": {},
   "outputs": [
    {
     "name": "stdout",
     "output_type": "stream",
     "text": [
      "1-gram POLY Trained\n",
      "1-POLY Accuracy:0.9762394761459308\n",
      "2-gram POLY Trained\n",
      "2-POLY Accuracy:0.98815982894561\n",
      "3-gram POLY Trained\n",
      "3-POLY Accuracy:0.9844447414138714\n"
     ]
    }
   ],
   "source": [
    "ngrams = [1, 2, 3]\n",
    "poly_acc = run_smv_poly(ngrams)"
   ]
  },
  {
   "cell_type": "markdown",
   "id": "1f56a982",
   "metadata": {},
   "source": [
    "1-gram POLY Trained\n",
    "\n",
    "1-POLY Accuracy:0.9762394761459308\n",
    "\n",
    "2-gram POLY Trained\n",
    "\n",
    "2-POLY Accuracy:0.98815982894561\n",
    "\n",
    "3-gram POLY Trained\n",
    "\n",
    "3-POLY Accuracy:0.9844447414138714"
   ]
  },
  {
   "cell_type": "code",
   "execution_count": 27,
   "id": "ab3e1df7",
   "metadata": {},
   "outputs": [
    {
     "name": "stdout",
     "output_type": "stream",
     "text": [
      "[0.9762394761459308, 0.98815982894561, 0.9844447414138714]\n"
     ]
    }
   ],
   "source": [
    "print(poly_acc)"
   ]
  },
  {
   "cell_type": "code",
   "execution_count": 28,
   "id": "7c089f38",
   "metadata": {},
   "outputs": [],
   "source": [
    "def run_rbf(nums_model):\n",
    "    acc_list = []\n",
    "    for i in nums_model:\n",
    "        filename = 'svm' + str(i) + '_rbf_model.sav'\n",
    "        loaded_model = pickle.load(open(filename, 'rb'))\n",
    "        result = loaded_model.predict(X_test)\n",
    "        acc = accuracy_score(y_test, result)\n",
    "        print(str(i) + '-RBF Accuracy:' + str(acc))\n",
    "        acc_list.append(acc)\n",
    "    return acc_list"
   ]
  },
  {
   "cell_type": "code",
   "execution_count": 29,
   "id": "a47b4c22",
   "metadata": {},
   "outputs": [],
   "source": [
    "ngrams = [1, 2, 3]\n",
    "rbf_acc = run_rbf(ngrams)"
   ]
  },
  {
   "cell_type": "code",
   "execution_count": 30,
   "id": "6f8a8e5c",
   "metadata": {},
   "outputs": [],
   "source": [
    "print(rbf_acc)"
   ]
  },
  {
   "cell_type": "code",
   "execution_count": null,
   "id": "b81fb288",
   "metadata": {},
   "outputs": [],
   "source": [
    "def run_poly(nums_model):\n",
    "    acc_list = []\n",
    "    for i in nums_model:\n",
    "        filename = 'svm' + str(i) + '_poly_model.sav'\n",
    "        loaded_model = pickle.load(open(filename, 'rb'))\n",
    "        result = loaded_model.predict(X_test)\n",
    "        acc = accuracy_score(y_test, result)\n",
    "        print(str(i) + '-POLY Accuracy:' + str(acc))\n",
    "        acc_list.append(acc)\n",
    "    return acc_list"
   ]
  },
  {
   "cell_type": "code",
   "execution_count": null,
   "id": "f5879821",
   "metadata": {},
   "outputs": [],
   "source": [
    "ngrams = [1, 2, 3]\n",
    "poly_acc = run_poly(ngrams)"
   ]
  },
  {
   "cell_type": "code",
   "execution_count": null,
   "id": "e70c7063",
   "metadata": {},
   "outputs": [],
   "source": [
    "print(poly_acc)"
   ]
  },
  {
   "attachments": {},
   "cell_type": "markdown",
   "id": "c478e78d",
   "metadata": {},
   "source": [
    "## RNN Model"
   ]
  },
  {
   "attachments": {},
   "cell_type": "markdown",
   "id": "d41e4f2a",
   "metadata": {},
   "source": [
    "For the RNN Model, please see the notebook in our file submission titled `rnn_model.ipynb`. Due to the needed time to train the RNN model, roughly 30 hours, we decided to move it into a seperate notebook for training so that we could continue with our work in this one as to not slow down our overall process. The data from the RNN notebook is then used in the following Data Visualization section."
   ]
  },
  {
   "attachments": {},
   "cell_type": "markdown",
   "id": "0404b6c3",
   "metadata": {},
   "source": [
    "## Data Visualization"
   ]
  },
  {
   "attachments": {},
   "cell_type": "markdown",
   "id": "508759e0",
   "metadata": {},
   "source": [
    "Below we are showing the accuracy score of the different n-gram models for the multinomial naive bayes models."
   ]
  },
  {
   "cell_type": "code",
   "execution_count": 31,
   "id": "7ef5de1a",
   "metadata": {},
   "outputs": [
    {
     "data": {
      "image/png": "[encoded data removed]",
      "text/plain": [
       "<Figure size 640x480 with 1 Axes>"
      ]
     },
     "metadata": {},
     "output_type": "display_data"
    }
   ],
   "source": [
    "# Create Data\n",
    "mnb_model_results = [0.9175731658425765, 0.9729787518374984, 0.9807296538821328, 0.9833221969798209, 0.9842041961780035, 0.9844714686623012, 0.9846051049044501]\n",
    "mnb_model_labels = ['1-gram', '2-gram', '3-gram', '4-gram', '5-gram', '6-gram', '7-gram']\n",
    "fig, ax = plt.subplots()\n",
    "  \n",
    "# plot data in grouped manner of bar type\n",
    "b1 = ax.bar(mnb_model_labels, mnb_model_results, color='green')\n",
    "ax.bar_label(b1, mnb_model_results, label_type='center')\n",
    "\n",
    "# Edit graph with scales and labels\n",
    "plt.ylim(0.91, 1.0)\n",
    "plt.xlabel(\"Language n-gram\")\n",
    "plt.ylabel(\"Accuracy\")\n",
    "plt.title(\"Multinomial Naive Bayes N-gram Comparison\")\n",
    "plt.show()"
   ]
  },
  {
   "attachments": {},
   "cell_type": "markdown",
   "id": "daa330d6",
   "metadata": {},
   "source": [
    "Below we are showing the accuracy score of the differnt n-gram models for the two different support vector machine kernels that were implemented, RBF and Polynomial."
   ]
  },
  {
   "cell_type": "code",
   "execution_count": 37,
   "id": "e8769b2e",
   "metadata": {},
   "outputs": [
    {
     "data": {
      "image/png": "[encoded data removed]",
      "text/plain": [
       "<Figure size 640x480 with 1 Axes>"
      ]
     },
     "metadata": {},
     "output_type": "display_data"
    }
   ],
   "source": [
    "# create data\n",
    "poly_accuracy = [0.9762394761459308, 0.98815982894561, 0.9844447414138714]\n",
    "rbf_accuracy = [0.9744487505011359, 0.9895229186155285, 0.9908592810370173]\n",
    "kernel_model_labels = ['1-gram', '2-gram', '3-gram']\n",
    "x = np.arange(3)\n",
    "width = 0.40\n",
    "  \n",
    "# plot data in grouped manner of bar type\n",
    "plt.bar(x-0.2, poly_accuracy, width, label='Polynomial')\n",
    "plt.bar(x+0.2, rbf_accuracy, width, label='RBF')\n",
    "  \n",
    "# Edit graph with scales and labels\n",
    "plt.ylim(0.96, 1.0)\n",
    "plt.xlabel(\"Kernel n-gram\")\n",
    "plt.xticks(x, kernel_model_labels)\n",
    "plt.ylabel(\"Accuracy\")\n",
    "plt.title(\"SVM Kernel n-gram Accuracy\")\n",
    "plt.legend()\n",
    "plt.show()"
   ]
  },
  {
   "cell_type": "code",
   "execution_count": 60,
   "id": "05291484",
   "metadata": {},
   "outputs": [
    {
     "data": {
      "image/png": "[encoded data removed]",
      "text/plain": [
       "<Figure size 640x480 with 1 Axes>"
      ]
     },
     "metadata": {},
     "output_type": "display_data"
    }
   ],
   "source": [
    "# Create Data\n",
    "rnn_epoch_accruacy = [0.2163, 0.7055, 0.8474, 0.8774, 0.9243, 0.9804, 0.9796, 0.9928, 0.9904, 0.9939]\n",
    "epochs = [1, 2, 3, 4, 5, 6, 7, 8, 9, 10]\n",
    "  \n",
    "# plot data in grouped manner of bar type\n",
    "plt.bar(epochs, rnn_epoch_accruacy, color='black')\n",
    "\n",
    "# Edit graph with scales and labels\n",
    "plt.ylim(0.18, 1.1)\n",
    "plt.xlabel(\"Epoch\")\n",
    "plt.xticks(epochs)\n",
    "plt.ylabel(\"Accuracy\")\n",
    "plt.title(\"Accuracy of RNN over Epochs\")\n",
    "plt.show()\n"
   ]
  },
  {
   "attachments": {},
   "cell_type": "markdown",
   "id": "e42fe997",
   "metadata": {},
   "source": [
    "Below we are showing the f1-score of all three models in a cluster bar graph to allow for easier comparison of the models and their performance. "
   ]
  },
  {
   "cell_type": "code",
   "execution_count": 30,
   "id": "fa546bde",
   "metadata": {},
   "outputs": [
    {
     "data": {
      "image/png": "[encoded data removed]",
      "text/plain": [
       "<Figure size 1500x500 with 1 Axes>"
      ]
     },
     "metadata": {},
     "output_type": "display_data"
    }
   ],
   "source": [
    "# create data\n",
    "rnn_f1 = [.99, .99, 1.0, 1.0, 1.0, 1.0, 1.0, .98, .99, 1.0,.97,1.0,.99,.97,1.0,.95,1.0,.99,1.0,1.0,1.0]\n",
    "mnb_f1 = [.99,.97,.98,.96,.98,.95,.98,.97,.99,.98,.99,.98,.98,.94,.97,.96,.98,.97,.97,.97,.97]\n",
    "svm_f1 = [1.0,.99,.98,.99,.99,.98,.99,.99,.99,.99,.99,.99,.99,1.0,.98,.99,.99,.99,.99,.99,.98]\n",
    "label = ['bg','cs','da','de','el','en','es','et','fi','fr','hu','it','lt','lv','nl','pl','pt','ro','sk','sl','sv']\n",
    "plt.figure(figsize=(15, 5))\n",
    "x = np.arange(21)\n",
    "width = 0.2\n",
    "  \n",
    "# plot data in grouped manner of bar type\n",
    "plt.bar(x-0.2, mnb_f1, width, color='green', label='MNB (Bigram)')\n",
    "plt.bar(x, svm_f1, width, color='purple', label='SVM (rbf)')\n",
    "plt.bar(x+0.2, rnn_f1, width, color='red', label='RNN')\n",
    "\n",
    "# Edit graph with scales and labels\n",
    "plt.xticks(x, label)\n",
    "plt.xlabel(\"Language\")\n",
    "plt.yticks([.93, .94, .95, .96, .97, .98, .99, 1.0])\n",
    "plt.ylim(0.93, 1.0)\n",
    "plt.ylabel(\"f1-score\")\n",
    "plt.legend(loc='lower left', fontsize=9)\n",
    "plt.title(\"f1-score comparison\")\n",
    "plt.show()"
   ]
  },
  {
   "attachments": {},
   "cell_type": "markdown",
   "id": "c5aabc8e",
   "metadata": {},
   "source": [
    "Below we are showing the average f1-score of all three models by each specific language, allowing us to see how each language did overall. "
   ]
  },
  {
   "cell_type": "code",
   "execution_count": 46,
   "id": "be6eb557",
   "metadata": {},
   "outputs": [
    {
     "data": {
      "image/png": "[encoded data removed]",
      "text/plain": [
       "<Figure size 640x480 with 1 Axes>"
      ]
     },
     "metadata": {},
     "output_type": "display_data"
    },
    {
     "name": "stdout",
     "output_type": "stream",
     "text": [
      "bg with average f1-score of 0.9933333333333333\n",
      "cs with average f1-score of 0.9833333333333334\n",
      "da with average f1-score of 0.9866666666666667\n",
      "de with average f1-score of 0.9833333333333334\n",
      "el with average f1-score of 0.9899999999999999\n",
      "en with average f1-score of 0.9766666666666666\n",
      "es with average f1-score of 0.9899999999999999\n",
      "et with average f1-score of 0.98\n",
      "fi with average f1-score of 0.9899999999999999\n",
      "fr with average f1-score of 0.9899999999999999\n",
      "hu with average f1-score of 0.9833333333333334\n",
      "it with average f1-score of 0.9899999999999999\n",
      "lt with average f1-score of 0.9866666666666667\n",
      "lv with average f1-score of 0.9700000000000001\n",
      "nl with average f1-score of 0.9833333333333334\n",
      "pl with average f1-score of 0.9666666666666667\n",
      "pt with average f1-score of 0.9899999999999999\n",
      "ro with average f1-score of 0.9833333333333334\n",
      "sk with average f1-score of 0.9866666666666667\n",
      "sl with average f1-score of 0.9866666666666667\n",
      "sv with average f1-score of 0.9833333333333334\n"
     ]
    }
   ],
   "source": [
    "lang_avg = []\n",
    "for i in range(21):\n",
    "    lang_avg.append((mnb_f1[i] + svm_f1[i] + rnn_f1[i]) / 3)\n",
    "  \n",
    "# plot data in grouped manner of bar type\n",
    "plt.bar(label, lang_avg, color='blue')\n",
    "\n",
    "# Edit graph with scales and labels\n",
    "plt.xlabel(\"Language\")\n",
    "plt.ylim(0.96, 1.0)\n",
    "plt.ylabel(\"Average f1-score\")\n",
    "plt.title(\"Average f1-score by Language\")\n",
    "plt.show()\n",
    "\n",
    "for i in range(len(label)):\n",
    "    print(label[i], 'with average f1-score of', lang_avg[i])"
   ]
  },
  {
   "attachments": {},
   "cell_type": "markdown",
   "id": "7ee54322",
   "metadata": {},
   "source": [
    "Below we are showing the average f1-score across all languages of each respective model, allowing us to see how each model did overall. "
   ]
  },
  {
   "cell_type": "code",
   "execution_count": 50,
   "id": "8c03e06f",
   "metadata": {},
   "outputs": [
    {
     "data": {
      "image/png": "[encoded data removed]",
      "text/plain": [
       "<Figure size 640x480 with 1 Axes>"
      ]
     },
     "metadata": {},
     "output_type": "display_data"
    },
    {
     "name": "stdout",
     "output_type": "stream",
     "text": [
      "MNB (Bigram) with average f1-score of 0.9728571428571426\n",
      "SVM (RBF) with average f1-score of 0.9890476190476188\n",
      "RNN with average f1-score of 0.9914285714285713\n"
     ]
    }
   ],
   "source": [
    "mnb_avg = np.average(mnb_f1)\n",
    "svm_avg = np.average(svm_f1)\n",
    "rnn_avg = np.average(rnn_f1)\n",
    "\n",
    "# plot data in grouped manner of bar type\n",
    "plt.bar(['MNB (Bigram)', 'SVM (RBF)', 'RNN'], [mnb_avg, svm_avg, rnn_avg], color='maroon')\n",
    "\n",
    "# Edit graph with scales and labels\n",
    "plt.xlabel(\"Model\")\n",
    "plt.ylim(0.96, 1.0)\n",
    "plt.ylabel(\"Average f1-score\")\n",
    "plt.title(\"Average f1-score by Model\")\n",
    "plt.show()\n",
    "\n",
    "print('MNB (Bigram) with average f1-score of', mnb_avg)\n",
    "print('SVM (RBF) with average f1-score of', svm_avg)\n",
    "print('RNN with average f1-score of', rnn_avg)"
   ]
  }
 ],
 "metadata": {
  "kernelspec": {
   "display_name": "Python 3",
   "language": "python",
   "name": "python3"
  },
  "language_info": {
   "codemirror_mode": {
    "name": "ipython",
    "version": 3
   },
   "file_extension": ".py",
   "mimetype": "text/x-python",
   "name": "python",
   "nbconvert_exporter": "python",
   "pygments_lexer": "ipython3",
   "version": "3.9.7"
  },
  "vscode": {
   "interpreter": {
    "hash": "9dd8fe0000d5e8ca0c29a9a25270120ebb9e3d45f065bb153743dc4d8de1c703"
   }
  }
 },
 "nbformat": 4,
 "nbformat_minor": 5
}
