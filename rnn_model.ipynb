{
 "cells": [
  {
   "attachments": {},
   "cell_type": "markdown",
   "metadata": {},
   "source": [
    "The following notebook contains the code that was written by our team, Ayush Shenvi Pissurlenkar and Yousuf Khan, to create our RNN model to classify languages"
   ]
  },
  {
   "cell_type": "code",
   "execution_count": 36,
   "metadata": {},
   "outputs": [],
   "source": [
    "# Imports\n",
    "import numpy as np\n",
    "import os\n",
    "import pandas as pd\n",
    "import tensorflow as tf\n",
    "from nltk import word_tokenize\n",
    "import pickle\n",
    "import matplotlib.pyplot as plt\n",
    "import seaborn as sns\n",
    "\n",
    "from sklearn.model_selection import train_test_split\n",
    "from sklearn.metrics import confusion_matrix,classification_report,accuracy_score\n",
    "from keras import initializers, regularizers, constraints, optimizers, layers\n",
    "from keras.layers import Input, Dense, Embedding, GlobalMaxPool1D\n",
    "from keras.models import Sequential\n",
    "from keras.utils import pad_sequences\n",
    "from keras.preprocessing import text, sequence\n",
    "from keras.preprocessing.text import Tokenizer"
   ]
  },
  {
   "attachments": {},
   "cell_type": "markdown",
   "metadata": {},
   "source": [
    "## Data Preperation\n",
    "Ensure that the `testDataSet_train.csv` is in the same folder as this notebook so that pandas can load the data into a dataframe"
   ]
  },
  {
   "cell_type": "code",
   "execution_count": 2,
   "metadata": {},
   "outputs": [],
   "source": [
    "df = pd.read_csv('testDataSet_train.csv')"
   ]
  },
  {
   "cell_type": "code",
   "execution_count": 3,
   "metadata": {},
   "outputs": [
    {
     "name": "stdout",
     "output_type": "stream",
     "text": [
      "There are 1360372 unique words in the dataset.\n",
      "There are 4200 unique documents in the dataset.\n"
     ]
    }
   ],
   "source": [
    "data = df['text'].map(word_tokenize).values\n",
    "total_vocabulary = set(word for doc in data for word in doc)  # set created from nested comprehension \n",
    "print('There are {} unique words in the dataset.'.format(len(total_vocabulary)))\n",
    "print('There are {} unique documents in the dataset.'.format(len(data)))"
   ]
  },
  {
   "cell_type": "code",
   "execution_count": 5,
   "metadata": {},
   "outputs": [],
   "source": [
    "# set the langauge as our target classifier\n",
    "target = df['langauage']\n",
    "\n",
    "# use one hot encoding since our target is categorical\n",
    "y = pd.get_dummies(target).values\n",
    "\n",
    "# use keras to create a Tokenizer object\n",
    "tokenizer = text.Tokenizer(num_words=1370000)  # limit to the num_words most important ones\n",
    "tokenizer.fit_on_texts(list(df['text']))\n",
    "tokenized_texts = tokenizer.texts_to_sequences(df['text'])"
   ]
  },
  {
   "cell_type": "code",
   "execution_count": 6,
   "metadata": {},
   "outputs": [],
   "source": [
    "X = pad_sequences(tokenized_texts, maxlen=50000) # pad sequences so that all entries in the dataframe as the same length"
   ]
  },
  {
   "attachments": {},
   "cell_type": "markdown",
   "metadata": {},
   "source": [
    "#### We have decided to stick with the normal 80/20 split where 80% of the data is for training and 20% is for testing"
   ]
  },
  {
   "cell_type": "code",
   "execution_count": 9,
   "metadata": {},
   "outputs": [],
   "source": [
    "X_train, X_test, y_train, y_test = train_test_split(X, y, test_size=0.2)\n",
    "\n",
    "embedding_size = 128\n",
    "\n",
    "model = Sequential([\n",
    "  Embedding(len(total_vocabulary), embedding_size),\n",
    "  tf.keras.layers.GRU(25, return_sequences=True),\n",
    "  GlobalMaxPool1D(),\n",
    "  Dense(21, activation='softmax')\n",
    "])"
   ]
  },
  {
   "attachments": {},
   "cell_type": "markdown",
   "metadata": {},
   "source": [
    "Now that the model is built with its necesary layers, compile it"
   ]
  },
  {
   "cell_type": "code",
   "execution_count": 10,
   "metadata": {},
   "outputs": [],
   "source": [
    "model.compile(loss='categorical_crossentropy', \n",
    "              optimizer='adam', \n",
    "              metrics=['accuracy'])"
   ]
  },
  {
   "cell_type": "code",
   "execution_count": 11,
   "metadata": {},
   "outputs": [
    {
     "name": "stdout",
     "output_type": "stream",
     "text": [
      "Model: \"sequential\"\n",
      "_________________________________________________________________\n",
      " Layer (type)                Output Shape              Param #   \n",
      "=================================================================\n",
      " embedding_2 (Embedding)     (None, None, 128)         174127616 \n",
      "                                                                 \n",
      " gru (GRU)                   (None, None, 25)          11625     \n",
      "                                                                 \n",
      " global_max_pooling1d (Globa  (None, 25)               0         \n",
      " lMaxPooling1D)                                                  \n",
      "                                                                 \n",
      " dense (Dense)               (None, 21)                546       \n",
      "                                                                 \n",
      "=================================================================\n",
      "Total params: 174,139,787\n",
      "Trainable params: 174,139,787\n",
      "Non-trainable params: 0\n",
      "_________________________________________________________________\n"
     ]
    }
   ],
   "source": [
    "model.summary() # check the shape"
   ]
  },
  {
   "cell_type": "code",
   "execution_count": 12,
   "metadata": {},
   "outputs": [],
   "source": [
    "steps_per_epoch = len(X_train)//embedding_size  # Number of batches per epoch"
   ]
  },
  {
   "attachments": {},
   "cell_type": "markdown",
   "metadata": {},
   "source": [
    "#### Here we only run two epochs as a testing measure to ensure that the model would produce a favorable result"
   ]
  },
  {
   "cell_type": "code",
   "execution_count": 13,
   "metadata": {},
   "outputs": [
    {
     "name": "stdout",
     "output_type": "stream",
     "text": [
      "Epoch 1/2\n",
      "26/26 [==============================] - 8816s 340s/step - loss: 2.9592 - accuracy: 0.2163 - val_loss: 2.8339 - val_accuracy: 0.5446\n",
      "Epoch 2/2\n",
      "26/26 [==============================] - 8182s 312s/step - loss: 2.6870 - accuracy: 0.7055 - val_loss: 2.4834 - val_accuracy: 0.7976\n"
     ]
    },
    {
     "data": {
      "text/plain": [
       "<keras.callbacks.History at 0x1eececd44f0>"
      ]
     },
     "execution_count": 13,
     "metadata": {},
     "output_type": "execute_result"
    }
   ],
   "source": [
    "model.fit(X_train, y_train, epochs=2, batch_size=32, steps_per_epoch=steps_per_epoch, validation_split=0.1)"
   ]
  },
  {
   "cell_type": "code",
   "execution_count": 16,
   "metadata": {},
   "outputs": [
    {
     "name": "stdout",
     "output_type": "stream",
     "text": [
      "Keras weights file (<HDF5 file \"variables.h5\" (mode r+)>) saving:\n",
      "...layers\\dense\n",
      "......vars\n",
      ".........0\n",
      ".........1\n",
      "...layers\\embedding\n",
      "......vars\n",
      ".........0\n",
      "...layers\\global_max_pooling1d\n",
      "......vars\n",
      "...layers\\gru\n",
      "......vars\n",
      "...layers\\gru\\cell\n",
      "......vars\n",
      ".........0\n",
      ".........1\n",
      ".........2\n",
      "...metrics\\mean\n",
      "......vars\n",
      ".........0\n",
      ".........1\n",
      "...metrics\\mean_metric_wrapper\n",
      "......vars\n",
      ".........0\n",
      ".........1\n",
      "...optimizer\n",
      "......vars\n",
      ".........0\n",
      ".........1\n",
      ".........10\n",
      ".........11\n",
      ".........12\n",
      ".........2\n",
      ".........3\n",
      ".........4\n",
      ".........5\n",
      ".........6\n",
      ".........7\n",
      ".........8\n",
      ".........9\n",
      "...vars\n",
      "Keras model archive saving:\n",
      "File Name                                             Modified             Size\n",
      "config.json                                    2022-12-11 11:22:28         2384\n",
      "metadata.json                                  2022-12-11 11:22:28           64\n",
      "variables.h5                                   2022-12-11 11:22:33   2089703204\n"
     ]
    }
   ],
   "source": [
    "# save the model to disk\n",
    "filename = 'rnn_model.sav'\n",
    "pickle.dump(model, open(filename, 'wb'))"
   ]
  },
  {
   "attachments": {},
   "cell_type": "markdown",
   "metadata": {},
   "source": [
    "#### Now that we know the model works, we train another 8 epochs for a total of 10 to determine how high the accuracy can reach"
   ]
  },
  {
   "cell_type": "code",
   "execution_count": 17,
   "metadata": {},
   "outputs": [
    {
     "name": "stdout",
     "output_type": "stream",
     "text": [
      "Epoch 1/8\n",
      "26/26 [==============================] - 8380s 322s/step - loss: 2.3024 - accuracy: 0.8474 - val_loss: 2.0293 - val_accuracy: 0.8780\n",
      "Epoch 2/8\n",
      "26/26 [==============================] - 8354s 319s/step - loss: 1.8330 - accuracy: 0.8774 - val_loss: 1.5604 - val_accuracy: 0.8929\n",
      "Epoch 3/8\n",
      "26/26 [==============================] - 18529s 728s/step - loss: 1.3706 - accuracy: 0.9243 - val_loss: 1.1436 - val_accuracy: 0.9673\n",
      "Epoch 4/8\n",
      "26/26 [==============================] - 9457s 362s/step - loss: 0.9689 - accuracy: 0.9804 - val_loss: 0.8141 - val_accuracy: 0.9732\n",
      "Epoch 5/8\n",
      "26/26 [==============================] - 8758s 336s/step - loss: 0.6635 - accuracy: 0.9796 - val_loss: 0.5755 - val_accuracy: 0.9732\n",
      "Epoch 6/8\n",
      "26/26 [==============================] - 8269s 318s/step - loss: 0.4531 - accuracy: 0.9928 - val_loss: 0.4319 - val_accuracy: 0.9762\n",
      "Epoch 7/8\n",
      "26/26 [==============================] - 20428s 804s/step - loss: 0.3541 - accuracy: 0.9904 - val_loss: 0.3426 - val_accuracy: 0.9792\n",
      "Epoch 8/8\n",
      "26/26 [==============================] - 8644s 333s/step - loss: 0.2527 - accuracy: 0.9939 - val_loss: 0.2841 - val_accuracy: 0.9851\n"
     ]
    },
    {
     "data": {
      "text/plain": [
       "<keras.callbacks.History at 0x1eecf101280>"
      ]
     },
     "execution_count": 17,
     "metadata": {},
     "output_type": "execute_result"
    }
   ],
   "source": [
    "model.fit(X_train, y_train, epochs=8, batch_size=32, steps_per_epoch=steps_per_epoch, validation_split=0.1)"
   ]
  },
  {
   "cell_type": "code",
   "execution_count": 18,
   "metadata": {},
   "outputs": [
    {
     "name": "stdout",
     "output_type": "stream",
     "text": [
      "Keras weights file (<HDF5 file \"variables.h5\" (mode r+)>) saving:\n",
      "...layers\\dense\n",
      "......vars\n",
      ".........0\n",
      ".........1\n",
      "...layers\\embedding\n",
      "......vars\n",
      ".........0\n",
      "...layers\\global_max_pooling1d\n",
      "......vars\n",
      "...layers\\gru\n",
      "......vars\n",
      "...layers\\gru\\cell\n",
      "......vars\n",
      ".........0\n",
      ".........1\n",
      ".........2\n",
      "...metrics\\mean\n",
      "......vars\n",
      ".........0\n",
      ".........1\n",
      "...metrics\\mean_metric_wrapper\n",
      "......vars\n",
      ".........0\n",
      ".........1\n",
      "...optimizer\n",
      "......vars\n",
      ".........0\n",
      ".........1\n",
      ".........10\n",
      ".........11\n",
      ".........12\n",
      ".........2\n",
      ".........3\n",
      ".........4\n",
      ".........5\n",
      ".........6\n",
      ".........7\n",
      ".........8\n",
      ".........9\n",
      "...vars\n",
      "Keras model archive saving:\n",
      "File Name                                             Modified             Size\n",
      "config.json                                    2022-12-12 12:40:11         2384\n",
      "metadata.json                                  2022-12-12 12:40:11           64\n",
      "variables.h5                                   2022-12-12 12:40:15   2089703204\n"
     ]
    }
   ],
   "source": [
    "# save the model to disk\n",
    "filename = 'rnn_model_fullTrain.sav'\n",
    "pickle.dump(model, open(filename, 'wb'))"
   ]
  },
  {
   "cell_type": "code",
   "execution_count": 31,
   "metadata": {},
   "outputs": [
    {
     "name": "stdout",
     "output_type": "stream",
     "text": [
      "27/27 [==============================] - 118s 4s/step\n"
     ]
    }
   ],
   "source": [
    "y_pred = model.predict(X_test)"
   ]
  },
  {
   "cell_type": "code",
   "execution_count": null,
   "metadata": {},
   "outputs": [],
   "source": [
    "y_pred=np.argmax(y_pred, axis=1) # Need to adjust the dimensions of the data to allow for the confusion matrix to be generated\n",
    "y_test=np.argmax(y_test, axis=1)"
   ]
  },
  {
   "cell_type": "code",
   "execution_count": 33,
   "metadata": {},
   "outputs": [],
   "source": [
    "cm = confusion_matrix(y_test, y_pred) # Generate a confusion matrix to get classification report out of it"
   ]
  },
  {
   "cell_type": "code",
   "execution_count": 34,
   "metadata": {},
   "outputs": [
    {
     "name": "stdout",
     "output_type": "stream",
     "text": [
      "0.9916666666666667\n"
     ]
    }
   ],
   "source": [
    "print(accuracy_score(y_test, y_pred))"
   ]
  },
  {
   "cell_type": "code",
   "execution_count": 35,
   "metadata": {},
   "outputs": [
    {
     "name": "stdout",
     "output_type": "stream",
     "text": [
      "              precision    recall  f1-score   support\n",
      "\n",
      "           0       1.00      0.98      0.99        42\n",
      "           1       1.00      0.97      0.99        38\n",
      "           2       1.00      1.00      1.00        42\n",
      "           3       1.00      1.00      1.00        41\n",
      "           4       1.00      1.00      1.00        40\n",
      "           5       1.00      1.00      1.00        44\n",
      "           6       1.00      1.00      1.00        42\n",
      "           7       0.96      1.00      0.98        43\n",
      "           8       1.00      0.98      0.99        45\n",
      "           9       1.00      1.00      1.00        39\n",
      "          10       0.97      0.97      0.97        31\n",
      "          11       1.00      1.00      1.00        41\n",
      "          12       1.00      0.97      0.99        35\n",
      "          13       1.00      0.95      0.97        39\n",
      "          14       1.00      1.00      1.00        41\n",
      "          15       0.91      1.00      0.95        29\n",
      "          16       1.00      1.00      1.00        47\n",
      "          17       0.98      1.00      0.99        49\n",
      "          18       1.00      1.00      1.00        33\n",
      "          19       1.00      1.00      1.00        39\n",
      "          20       1.00      1.00      1.00        40\n",
      "\n",
      "    accuracy                           0.99       840\n",
      "   macro avg       0.99      0.99      0.99       840\n",
      "weighted avg       0.99      0.99      0.99       840\n",
      "\n"
     ]
    }
   ],
   "source": [
    "print(classification_report(y_test, y_pred))"
   ]
  },
  {
   "cell_type": "code",
   "execution_count": 38,
   "metadata": {},
   "outputs": [
    {
     "data": {
      "image/png": "[encoded data removed]",
      "text/plain": [
       "<Figure size 2000x1000 with 2 Axes>"
      ]
     },
     "metadata": {},
     "output_type": "display_data"
    }
   ],
   "source": [
    "plt.figure(figsize=(20, 10))\n",
    "sns.heatmap(cm, annot=True)\n",
    "plt.show()"
   ]
  }
 ],
 "metadata": {
  "kernelspec": {
   "display_name": "Python 3.9.7 64-bit",
   "language": "python",
   "name": "python3"
  },
  "language_info": {
   "codemirror_mode": {
    "name": "ipython",
    "version": 3
   },
   "file_extension": ".py",
   "mimetype": "text/x-python",
   "name": "python",
   "nbconvert_exporter": "python",
   "pygments_lexer": "ipython3",
   "version": "3.9.7"
  },
  "orig_nbformat": 4,
  "vscode": {
   "interpreter": {
    "hash": "9dd8fe0000d5e8ca0c29a9a25270120ebb9e3d45f065bb153743dc4d8de1c703"
   }
  }
 },
 "nbformat": 4,
 "nbformat_minor": 2
}
